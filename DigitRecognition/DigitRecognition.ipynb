{
  "nbformat": 4,
  "nbformat_minor": 0,
  "metadata": {
    "colab": {
      "provenance": [],
      "gpuType": "T4"
    },
    "kernelspec": {
      "name": "python3",
      "display_name": "Python 3"
    },
    "language_info": {
      "name": "python"
    },
    "accelerator": "GPU"
  },
  "cells": [
    {
      "cell_type": "code",
      "execution_count": null,
      "metadata": {
        "id": "0QDlNPjvKWqq"
      },
      "outputs": [],
      "source": [
        "import pandas as pd"
      ]
    },
    {
      "cell_type": "code",
      "source": [
        "import sklearn"
      ],
      "metadata": {
        "id": "AuGk9gLQ-PkW"
      },
      "execution_count": null,
      "outputs": []
    },
    {
      "cell_type": "code",
      "source": [
        "import matplotlib.pyplot as plt\n",
        "\n",
        "# Import datasets, classifiers and performance metrics\n",
        "from sklearn import datasets, metrics, svm\n",
        "from sklearn.model_selection import train_test_split"
      ],
      "metadata": {
        "id": "Jsc_uhgI-wPW"
      },
      "execution_count": null,
      "outputs": []
    },
    {
      "cell_type": "code",
      "source": [
        "!pip install tqdm"
      ],
      "metadata": {
        "colab": {
          "base_uri": "https://localhost:8080/"
        },
        "id": "F-h8sim7CWvm",
        "outputId": "78a5e14d-e33d-4f1a-cf0e-d307e9812d89"
      },
      "execution_count": null,
      "outputs": [
        {
          "output_type": "stream",
          "name": "stdout",
          "text": [
            "Requirement already satisfied: tqdm in /usr/local/lib/python3.10/dist-packages (4.66.4)\n"
          ]
        }
      ]
    },
    {
      "cell_type": "markdown",
      "source": [
        "## Implement K_MEAN with k=2 for clustering"
      ],
      "metadata": {
        "id": "IOLlt_68YE4G"
      }
    },
    {
      "cell_type": "code",
      "source": [
        "import os\n",
        "from tqdm import tqdm\n",
        "from PIL import Image\n",
        "import numpy as np\n",
        "from sklearn.cluster import KMeans\n",
        "\n",
        "images_dir = '/content/drive/MyDrive/new_data/data'\n",
        "images = []\n",
        "\n",
        "for filename in tqdm(os.listdir(images_dir)):\n",
        "    img_path = os.path.join(images_dir, filename)\n",
        "\n",
        "\n",
        "    img = Image.open(img_path)\n",
        "\n",
        "\n",
        "    img_gray = img.convert('L')\n",
        "\n",
        "\n",
        "    resized_img = img_gray.resize((28, 28))\n",
        "\n",
        "\n",
        "    img_array = np.array(resized_img)\n",
        "\n",
        "    flattened_img = img_array.flatten()\n",
        "\n",
        "    images.append(flattened_img)\n",
        "\n",
        "images = np.array(images)\n",
        "\n",
        "n_clusters = 2\n",
        "kmeans = KMeans(n_clusters=n_clusters, random_state=42)\n",
        "kmeans.fit(images)\n",
        "cluster_labels = kmeans.labels_\n",
        "\n",
        "print(\"Cluster labels for each image:\")\n",
        "print(cluster_labels)"
      ],
      "metadata": {
        "colab": {
          "base_uri": "https://localhost:8080/"
        },
        "id": "ltodjejGCDUT",
        "outputId": "14185dfb-ed92-4e47-f52b-ada72b8606ad"
      },
      "execution_count": null,
      "outputs": [
        {
          "output_type": "stream",
          "name": "stderr",
          "text": [
            "100%|██████████| 34022/34022 [15:33<00:00, 36.46it/s] \n",
            "/usr/local/lib/python3.10/dist-packages/sklearn/cluster/_kmeans.py:870: FutureWarning: The default value of `n_init` will change from 10 to 'auto' in 1.4. Set the value of `n_init` explicitly to suppress the warning\n",
            "  warnings.warn(\n"
          ]
        },
        {
          "output_type": "stream",
          "name": "stdout",
          "text": [
            "Cluster labels for each image:\n",
            "[1 0 1 ... 1 1 0]\n"
          ]
        }
      ]
    },
    {
      "cell_type": "code",
      "source": [
        "len(cluster_labels)"
      ],
      "metadata": {
        "colab": {
          "base_uri": "https://localhost:8080/"
        },
        "id": "n2MQda8pL0uA",
        "outputId": "b67eb4cd-304c-4240-c8af-e6eec397c04f"
      },
      "execution_count": null,
      "outputs": [
        {
          "output_type": "execute_result",
          "data": {
            "text/plain": [
              "34022"
            ]
          },
          "metadata": {},
          "execution_count": 9
        }
      ]
    },
    {
      "cell_type": "code",
      "source": [
        "unique_labels, counts = np.unique(cluster_labels, return_counts=True)"
      ],
      "metadata": {
        "id": "vnrkqm7QCDW-"
      },
      "execution_count": null,
      "outputs": []
    },
    {
      "cell_type": "markdown",
      "source": [
        "### Get the flage in format ingineer{num_of_3 , num_of_6}"
      ],
      "metadata": {
        "id": "OM8DlHCQX5h5"
      }
    },
    {
      "cell_type": "code",
      "source": [
        "counts"
      ],
      "metadata": {
        "colab": {
          "base_uri": "https://localhost:8080/"
        },
        "id": "LrlM5YKbCDZ1",
        "outputId": "61b4daf8-3117-43ef-d01e-d8b33aa42942"
      },
      "execution_count": null,
      "outputs": [
        {
          "output_type": "execute_result",
          "data": {
            "text/plain": [
              "array([17254, 16768])"
            ]
          },
          "metadata": {},
          "execution_count": 8
        }
      ]
    },
    {
      "cell_type": "code",
      "source": [
        "17254 + 16768"
      ],
      "metadata": {
        "colab": {
          "base_uri": "https://localhost:8080/"
        },
        "id": "KXnw7qvMMG6A",
        "outputId": "b16a9f34-c5ca-4177-bd30-e78fa98fd906"
      },
      "execution_count": null,
      "outputs": [
        {
          "output_type": "execute_result",
          "data": {
            "text/plain": [
              "34022"
            ]
          },
          "metadata": {},
          "execution_count": 10
        }
      ]
    }
  ]
}