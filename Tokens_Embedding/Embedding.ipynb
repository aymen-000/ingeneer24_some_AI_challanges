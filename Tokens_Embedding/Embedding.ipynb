{
  "nbformat": 4,
  "nbformat_minor": 0,
  "metadata": {
    "colab": {
      "provenance": []
    },
    "kernelspec": {
      "name": "python3",
      "display_name": "Python 3"
    },
    "language_info": {
      "name": "python"
    }
  },
  "cells": [
    {
      "cell_type": "code",
      "execution_count": null,
      "metadata": {
        "id": "n3mMkr5WqkZr"
      },
      "outputs": [],
      "source": [
        "import tensorflow as tf"
      ]
    },
    {
      "cell_type": "markdown",
      "source": [
        "### Read data"
      ],
      "metadata": {
        "id": "R0YpwQ9lWw1t"
      }
    },
    {
      "cell_type": "code",
      "source": [
        "import numpy as np\n",
        "\n",
        "# Load the .npz file\n",
        "data = np.load('/content/file.npz')"
      ],
      "metadata": {
        "id": "YCuiBexHqoiw"
      },
      "execution_count": null,
      "outputs": []
    },
    {
      "cell_type": "code",
      "source": [
        "data"
      ],
      "metadata": {
        "colab": {
          "base_uri": "https://localhost:8080/"
        },
        "id": "U8mC4WNxq81x",
        "outputId": "f8166792-89a3-411c-dfa1-9b9d6184bace"
      },
      "execution_count": null,
      "outputs": [
        {
          "output_type": "execute_result",
          "data": {
            "text/plain": [
              "NpzFile '/content/file.npz' with keys: tokens, embeddings"
            ]
          },
          "metadata": {},
          "execution_count": 38
        }
      ]
    },
    {
      "cell_type": "code",
      "source": [
        "tokens = data['tokens']\n",
        "embeddings = data['embeddings']"
      ],
      "metadata": {
        "id": "y-9eoSAAvOFD"
      },
      "execution_count": null,
      "outputs": []
    },
    {
      "cell_type": "code",
      "source": [
        "print(\"Shape of 'tokens' array:\", tokens.shape)\n",
        "print(\"Shape of 'embeddings' array:\", embeddings.shape)"
      ],
      "metadata": {
        "colab": {
          "base_uri": "https://localhost:8080/"
        },
        "id": "bZ72Q00Fq8_e",
        "outputId": "fb87161e-edad-47c4-a5f7-201aeed19da5"
      },
      "execution_count": null,
      "outputs": [
        {
          "output_type": "stream",
          "name": "stdout",
          "text": [
            "Shape of 'tokens' array: ()\n",
            "Shape of 'embeddings' array: (188, 512)\n"
          ]
        }
      ]
    },
    {
      "cell_type": "code",
      "source": [
        "embeddings"
      ],
      "metadata": {
        "colab": {
          "base_uri": "https://localhost:8080/"
        },
        "id": "K5kLuy1Vq9CB",
        "outputId": "ef323c91-5cc3-4438-be20-39dbe65eba8f"
      },
      "execution_count": null,
      "outputs": [
        {
          "output_type": "execute_result",
          "data": {
            "text/plain": [
              "array([[-0.05626911,  0.01941425,  0.06640906, ..., -0.00805354,\n",
              "        -0.0979707 ,  0.02474891],\n",
              "       [-0.02409083,  0.00764982,  0.02582571, ..., -0.00462916,\n",
              "        -0.03917944,  0.01424763],\n",
              "       [-0.02501099,  0.00751202,  0.02511948, ..., -0.00557303,\n",
              "        -0.03888004,  0.01716333],\n",
              "       ...,\n",
              "       [-0.00038671, -0.01712508, -0.06748112, ..., -0.0308428 ,\n",
              "         0.07140732,  0.09535483],\n",
              "       [ 0.00105846, -0.00885126, -0.0346543 , ..., -0.0149868 ,\n",
              "         0.03728517,  0.0463371 ],\n",
              "       [ 0.00464299, -0.01835814, -0.07143986, ..., -0.02922684,\n",
              "         0.07806666,  0.09037224]])"
            ]
          },
          "metadata": {},
          "execution_count": 44
        }
      ]
    },
    {
      "cell_type": "code",
      "source": [
        "tokens"
      ],
      "metadata": {
        "colab": {
          "base_uri": "https://localhost:8080/"
        },
        "id": "9OO12UONvYQv",
        "outputId": "abe15108-4f9a-4eeb-be4a-7ca52beafb36"
      },
      "execution_count": null,
      "outputs": [
        {
          "output_type": "execute_result",
          "data": {
            "text/plain": [
              "array('!!\"\"##$$%%&&\\'\\'(())**++,,--..//00112233445566778899::;;<<==>>??@@AABBCCyy55PP__HHIIJJKKCCMMaaOOPPQQ33SS55__VVWWXXYYZZ[[\\\\\\\\]]^^__``aabbccddeeffgghhiijjkkllmmnnooppqqrrssttuuvvwwxxyyzz11||}}~~',\n",
              "      dtype='<U188')"
            ]
          },
          "metadata": {},
          "execution_count": 48
        }
      ]
    },
    {
      "cell_type": "code",
      "source": [
        "tokens_str = '!!\"\"##$$%%&&\\'\\'(())**++,,--..//00112233445566778899::;;<<==>>??@@AABBCCyy55PP__HHIIJJKKCCMMaaOOPPQQ33SS55__VVWWXXYYZZ[[\\\\\\\\]]^^__``aabbccddeeffgghhiijjkkllmmnnooppqqrrssttuuvvwwxxyyzz11||}}~~'"
      ],
      "metadata": {
        "id": "hSy0ZeFsruaW"
      },
      "execution_count": null,
      "outputs": []
    },
    {
      "cell_type": "code",
      "source": [
        "tokens = list(tokens_str)"
      ],
      "metadata": {
        "id": "XBv0_8Ryu1jo"
      },
      "execution_count": null,
      "outputs": []
    },
    {
      "cell_type": "code",
      "source": [
        "data.close()"
      ],
      "metadata": {
        "id": "2Nezfzgfu6If"
      },
      "execution_count": null,
      "outputs": []
    },
    {
      "cell_type": "code",
      "source": [
        "from sklearn.decomposition import PCA\n",
        "import matplotlib.pyplot as plt\n",
        "\n",
        "# Perform PCA on the embeddings array\n",
        "pca = PCA(n_components=2)  # You can adjust the number of components as needed\n",
        "embeddings_pca = pca.fit_transform(embeddings)\n",
        "\n",
        "# Plot the PCA-transformed embeddings\n",
        "plt.scatter(embeddings_pca[:, 0], embeddings_pca[:, 1], alpha=0.5)\n",
        "plt.title('PCA of Embeddings')\n",
        "plt.xlabel('Principal Component 1')\n",
        "plt.ylabel('Principal Component 2')\n",
        "plt.show()"
      ],
      "metadata": {
        "colab": {
          "base_uri": "https://localhost:8080/",
          "height": 472
        },
        "id": "w57SyOv_rLz3",
        "outputId": "ce941a88-c10a-438f-99b0-4c6082a72842"
      },
      "execution_count": null,
      "outputs": [
        {
          "output_type": "display_data",
          "data": {
            "text/plain": [
              "<Figure size 640x480 with 1 Axes>"
            ],
            "image/png": "[encoded data removed]"
          },
          "metadata": {}
        }
      ]
    },
    {
      "cell_type": "code",
      "source": [
        "import pandas as pd\n",
        "import numpy as np\n",
        "import matplotlib.pyplot as plt\n",
        "from sklearn.decomposition import PCA\n",
        "\n",
        "def get_flag(tokens, embeddings, title='random', show=False):\n",
        "\n",
        "    pca = PCA(n_components=2)\n",
        "    embeddings_pca = pca.fit_transform(embeddings)\n",
        "\n",
        "    if show:\n",
        "        plt.scatter(embeddings_pca[:, 0], embeddings_pca[:, 1])\n",
        "        plt.title('PCA Visualization of Embeddings')\n",
        "        plt.savefig(f'{title}.png')\n",
        "        plt.show()\n",
        "\n",
        "    df = pd.DataFrame({\n",
        "        'tokens': tokens,\n",
        "    })\n",
        "\n",
        "    df['distance_from_origin'] = np.sqrt(embeddings_pca[:, 0]**2 + embeddings_pca[:, 1]**2)\n",
        "    df_sorted = df.sort_values(by='distance_from_origin')\n",
        "    reordered_tokens = df_sorted['tokens'].tolist()\n",
        "\n",
        "    flag = ''.join(reordered_tokens)\n",
        "    print(flag)\n",
        "    return flag"
      ],
      "metadata": {
        "id": "RviDIzK7r4VX"
      },
      "execution_count": null,
      "outputs": []
    },
    {
      "cell_type": "markdown",
      "source": [
        "### Get the flag"
      ],
      "metadata": {
        "id": "NJf4TVhdW9FC"
      }
    },
    {
      "cell_type": "code",
      "source": [
        "flag = get_flag(tokens, embeddings, 'flag')"
      ],
      "metadata": {
        "colab": {
          "base_uri": "https://localhost:8080/"
        },
        "id": "RzsJCLkGu-VM",
        "outputId": "f35c00e2-8f12-4ed8-e182-8cb393b63d45"
      },
      "execution_count": null,
      "outputs": [
        {
          "output_type": "stream",
          "name": "stdout",
          "text": [
            "PCA_15_3a5y}0123456789abcdefghijklmnopqrstuvwxIHyJCBzKMOPQSVWXYZ!\"#$%&'()*+,-./:;<=>?@[\\]^_`|~0123456789abcdefghijklmnopqrstuvwxyzABCy5P_HIJKCMaOPQ3S5_VWXYZ!\"#$%&'()*+,-./:;<=>?@[\\]^_`1|}~\n"
          ]
        }
      ]
    }
  ]
}